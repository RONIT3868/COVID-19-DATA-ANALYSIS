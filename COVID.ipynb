{
 "cells": [
  {
   "cell_type": "code",
   "execution_count": 14,
   "id": "2edd4c3f",
   "metadata": {},
   "outputs": [],
   "source": [
    "import pandas as pd\n",
    "import os\n",
    "import matplotlib.pyplot as plt\n",
    "import seaborn as sns"
   ]
  },
  {
   "cell_type": "code",
   "execution_count": 7,
   "id": "691e2044",
   "metadata": {},
   "outputs": [],
   "source": [
    "os.chdir(\"C:\\\\Users\\\\ronit\\\\Downloads\")"
   ]
  },
  {
   "cell_type": "code",
   "execution_count": 42,
   "id": "d885c2d5",
   "metadata": {},
   "outputs": [],
   "source": [
    " data=pd.read_csv(\"4. covid_19_data.csv\")"
   ]
  },
  {
   "cell_type": "markdown",
   "id": "a02ae531",
   "metadata": {},
   "source": [
    "#### Finding null values"
   ]
  },
  {
   "cell_type": "code",
   "execution_count": 43,
   "id": "16f58893",
   "metadata": {},
   "outputs": [
    {
     "data": {
      "text/plain": [
       "Date           0\n",
       "State        181\n",
       "Region         0\n",
       "Confirmed      0\n",
       "Deaths         0\n",
       "Recovered      0\n",
       "dtype: int64"
      ]
     },
     "execution_count": 43,
     "metadata": {},
     "output_type": "execute_result"
    }
   ],
   "source": [
    "data.isnull().sum()"
   ]
  },
  {
   "cell_type": "code",
   "execution_count": 44,
   "id": "effa9305",
   "metadata": {},
   "outputs": [
    {
     "data": {
      "image/png": "[encoded data removed]",
      "text/plain": [
       "<Figure size 432x288 with 2 Axes>"
      ]
     },
     "metadata": {
      "needs_background": "light"
     },
     "output_type": "display_data"
    }
   ],
   "source": [
    "sns.heatmap(data.isnull())\n",
    "plt.show()"
   ]
  },
  {
   "cell_type": "markdown",
   "id": "9ee4012f",
   "metadata": {},
   "source": [
    "### deaths, recovered, confirmed cases region wise"
   ]
  },
  {
   "cell_type": "code",
   "execution_count": 45,
   "id": "2ba67aa1",
   "metadata": {},
   "outputs": [
    {
     "data": {
      "text/plain": [
       "Region\n",
       "Afghanistan           1939\n",
       "Albania                766\n",
       "Algeria               3848\n",
       "Andorra                743\n",
       "Angola                  27\n",
       "                      ... \n",
       "West Bank and Gaza     344\n",
       "Western Sahara           6\n",
       "Yemen                    6\n",
       "Zambia                  97\n",
       "Zimbabwe                32\n",
       "Name: Confirmed, Length: 187, dtype: int64"
      ]
     },
     "execution_count": 45,
     "metadata": {},
     "output_type": "execute_result"
    }
   ],
   "source": [
    "data.groupby(\"Region\")[\"Confirmed\"].sum()"
   ]
  },
  {
   "cell_type": "code",
   "execution_count": 46,
   "id": "28f4da31",
   "metadata": {},
   "outputs": [
    {
     "data": {
      "text/plain": [
       "Region\n",
       "Afghanistan            60\n",
       "Albania                30\n",
       "Algeria               444\n",
       "Andorra                42\n",
       "Angola                  2\n",
       "                     ... \n",
       "West Bank and Gaza      2\n",
       "Western Sahara          0\n",
       "Yemen                   0\n",
       "Zambia                  3\n",
       "Zimbabwe                4\n",
       "Name: Deaths, Length: 187, dtype: int64"
      ]
     },
     "execution_count": 46,
     "metadata": {},
     "output_type": "execute_result"
    }
   ],
   "source": [
    "data.groupby(\"Region\")[\"Deaths\"].sum()"
   ]
  },
  {
   "cell_type": "code",
   "execution_count": 47,
   "id": "cdfb1702",
   "metadata": {},
   "outputs": [
    {
     "data": {
      "text/plain": [
       "Region\n",
       "Afghanistan            252\n",
       "Albania                455\n",
       "Algeria               1702\n",
       "Andorra                423\n",
       "Angola                   7\n",
       "                      ... \n",
       "West Bank and Gaza      71\n",
       "Western Sahara           5\n",
       "Yemen                    1\n",
       "Zambia                  54\n",
       "Zimbabwe                 5\n",
       "Name: Recovered, Length: 187, dtype: int64"
      ]
     },
     "execution_count": 47,
     "metadata": {},
     "output_type": "execute_result"
    }
   ],
   "source": [
    "data.groupby(\"Region\")[\"Recovered\"].sum()"
   ]
  },
  {
   "cell_type": "markdown",
   "id": "f6f28995",
   "metadata": {},
   "source": [
    "### Removing records where recovered cases<7 "
   ]
  },
  {
   "cell_type": "code",
   "execution_count": 55,
   "id": "9903b202",
   "metadata": {},
   "outputs": [],
   "source": [
    "data=data[~(data.Recovered<7)]"
   ]
  },
  {
   "cell_type": "code",
   "execution_count": 56,
   "id": "8d8429b2",
   "metadata": {},
   "outputs": [
    {
     "data": {
      "text/html": [
       "<div>\n",
       "<style scoped>\n",
       "    .dataframe tbody tr th:only-of-type {\n",
       "        vertical-align: middle;\n",
       "    }\n",
       "\n",
       "    .dataframe tbody tr th {\n",
       "        vertical-align: top;\n",
       "    }\n",
       "\n",
       "    .dataframe thead th {\n",
       "        text-align: right;\n",
       "    }\n",
       "</style>\n",
       "<table border=\"1\" class=\"dataframe\">\n",
       "  <thead>\n",
       "    <tr style=\"text-align: right;\">\n",
       "      <th></th>\n",
       "      <th>Date</th>\n",
       "      <th>State</th>\n",
       "      <th>Region</th>\n",
       "      <th>Confirmed</th>\n",
       "      <th>Deaths</th>\n",
       "      <th>Recovered</th>\n",
       "    </tr>\n",
       "  </thead>\n",
       "  <tbody>\n",
       "    <tr>\n",
       "      <th>0</th>\n",
       "      <td>4/29/2020</td>\n",
       "      <td>NaN</td>\n",
       "      <td>Afghanistan</td>\n",
       "      <td>1939</td>\n",
       "      <td>60</td>\n",
       "      <td>252</td>\n",
       "    </tr>\n",
       "    <tr>\n",
       "      <th>1</th>\n",
       "      <td>4/29/2020</td>\n",
       "      <td>NaN</td>\n",
       "      <td>Albania</td>\n",
       "      <td>766</td>\n",
       "      <td>30</td>\n",
       "      <td>455</td>\n",
       "    </tr>\n",
       "    <tr>\n",
       "      <th>2</th>\n",
       "      <td>4/29/2020</td>\n",
       "      <td>NaN</td>\n",
       "      <td>Algeria</td>\n",
       "      <td>3848</td>\n",
       "      <td>444</td>\n",
       "      <td>1702</td>\n",
       "    </tr>\n",
       "    <tr>\n",
       "      <th>3</th>\n",
       "      <td>4/29/2020</td>\n",
       "      <td>NaN</td>\n",
       "      <td>Andorra</td>\n",
       "      <td>743</td>\n",
       "      <td>42</td>\n",
       "      <td>423</td>\n",
       "    </tr>\n",
       "    <tr>\n",
       "      <th>4</th>\n",
       "      <td>4/29/2020</td>\n",
       "      <td>NaN</td>\n",
       "      <td>Angola</td>\n",
       "      <td>27</td>\n",
       "      <td>2</td>\n",
       "      <td>7</td>\n",
       "    </tr>\n",
       "    <tr>\n",
       "      <th>...</th>\n",
       "      <td>...</td>\n",
       "      <td>...</td>\n",
       "      <td>...</td>\n",
       "      <td>...</td>\n",
       "      <td>...</td>\n",
       "      <td>...</td>\n",
       "    </tr>\n",
       "    <tr>\n",
       "      <th>309</th>\n",
       "      <td>4/29/2020</td>\n",
       "      <td>Victoria</td>\n",
       "      <td>Australia</td>\n",
       "      <td>1361</td>\n",
       "      <td>18</td>\n",
       "      <td>1291</td>\n",
       "    </tr>\n",
       "    <tr>\n",
       "      <th>314</th>\n",
       "      <td>4/29/2020</td>\n",
       "      <td>Western Australia</td>\n",
       "      <td>Australia</td>\n",
       "      <td>551</td>\n",
       "      <td>8</td>\n",
       "      <td>507</td>\n",
       "    </tr>\n",
       "    <tr>\n",
       "      <th>317</th>\n",
       "      <td>4/29/2020</td>\n",
       "      <td>Xinjiang</td>\n",
       "      <td>Mainland China</td>\n",
       "      <td>76</td>\n",
       "      <td>3</td>\n",
       "      <td>73</td>\n",
       "    </tr>\n",
       "    <tr>\n",
       "      <th>319</th>\n",
       "      <td>4/29/2020</td>\n",
       "      <td>Yunnan</td>\n",
       "      <td>Mainland China</td>\n",
       "      <td>185</td>\n",
       "      <td>2</td>\n",
       "      <td>181</td>\n",
       "    </tr>\n",
       "    <tr>\n",
       "      <th>320</th>\n",
       "      <td>4/29/2020</td>\n",
       "      <td>Zhejiang</td>\n",
       "      <td>Mainland China</td>\n",
       "      <td>1268</td>\n",
       "      <td>1</td>\n",
       "      <td>1263</td>\n",
       "    </tr>\n",
       "  </tbody>\n",
       "</table>\n",
       "<p>224 rows × 6 columns</p>\n",
       "</div>"
      ],
      "text/plain": [
       "          Date              State          Region  Confirmed  Deaths  \\\n",
       "0    4/29/2020                NaN     Afghanistan       1939      60   \n",
       "1    4/29/2020                NaN         Albania        766      30   \n",
       "2    4/29/2020                NaN         Algeria       3848     444   \n",
       "3    4/29/2020                NaN         Andorra        743      42   \n",
       "4    4/29/2020                NaN          Angola         27       2   \n",
       "..         ...                ...             ...        ...     ...   \n",
       "309  4/29/2020           Victoria       Australia       1361      18   \n",
       "314  4/29/2020  Western Australia       Australia        551       8   \n",
       "317  4/29/2020           Xinjiang  Mainland China         76       3   \n",
       "319  4/29/2020             Yunnan  Mainland China        185       2   \n",
       "320  4/29/2020           Zhejiang  Mainland China       1268       1   \n",
       "\n",
       "     Recovered  \n",
       "0          252  \n",
       "1          455  \n",
       "2         1702  \n",
       "3          423  \n",
       "4            7  \n",
       "..         ...  \n",
       "309       1291  \n",
       "314        507  \n",
       "317         73  \n",
       "319        181  \n",
       "320       1263  \n",
       "\n",
       "[224 rows x 6 columns]"
      ]
     },
     "execution_count": 56,
     "metadata": {},
     "output_type": "execute_result"
    }
   ],
   "source": [
    "data"
   ]
  },
  {
   "cell_type": "markdown",
   "id": "9c1ba63e",
   "metadata": {},
   "source": [
    "### Region having maximum number of deaths, confirmed cases"
   ]
  },
  {
   "cell_type": "code",
   "execution_count": 65,
   "id": "3fac949d",
   "metadata": {},
   "outputs": [
    {
     "data": {
      "text/plain": [
       "Region\n",
       "Nepal                           0\n",
       "Mongolia                        0\n",
       "Dominica                        0\n",
       "Central African Republic        0\n",
       "Canada                          0\n",
       "                            ...  \n",
       "Germany                      6467\n",
       "Belgium                      7501\n",
       "France                      24121\n",
       "Spain                       24275\n",
       "Italy                       27682\n",
       "Name: Deaths, Length: 171, dtype: int64"
      ]
     },
     "execution_count": 65,
     "metadata": {},
     "output_type": "execute_result"
    }
   ],
   "source": [
    "data.groupby(\"Region\").Deaths.sum().sort_values(ascending=True)"
   ]
  },
  {
   "cell_type": "code",
   "execution_count": 66,
   "id": "c79158a7",
   "metadata": {},
   "outputs": [
    {
     "data": {
      "text/plain": [
       "Region\n",
       "Angola                 7\n",
       "Nicaragua              7\n",
       "Laos                   7\n",
       "Malawi                 7\n",
       "Namibia                8\n",
       "                   ...  \n",
       "Iran               73791\n",
       "Mainland China     77609\n",
       "Germany           120400\n",
       "US                120720\n",
       "Spain             132929\n",
       "Name: Recovered, Length: 171, dtype: int64"
      ]
     },
     "execution_count": 66,
     "metadata": {},
     "output_type": "execute_result"
    }
   ],
   "source": [
    "data.groupby(\"Region\").Recovered.sum().sort_values(ascending=True)"
   ]
  },
  {
   "cell_type": "markdown",
   "id": "c92c9785",
   "metadata": {},
   "source": [
    "### sorting data w.r.t number of deaths "
   ]
  },
  {
   "cell_type": "code",
   "execution_count": 68,
   "id": "1f6a2ca4",
   "metadata": {},
   "outputs": [
    {
     "data": {
      "text/html": [
       "<div>\n",
       "<style scoped>\n",
       "    .dataframe tbody tr th:only-of-type {\n",
       "        vertical-align: middle;\n",
       "    }\n",
       "\n",
       "    .dataframe tbody tr th {\n",
       "        vertical-align: top;\n",
       "    }\n",
       "\n",
       "    .dataframe thead th {\n",
       "        text-align: right;\n",
       "    }\n",
       "</style>\n",
       "<table border=\"1\" class=\"dataframe\">\n",
       "  <thead>\n",
       "    <tr style=\"text-align: right;\">\n",
       "      <th></th>\n",
       "      <th>Date</th>\n",
       "      <th>State</th>\n",
       "      <th>Region</th>\n",
       "      <th>Confirmed</th>\n",
       "      <th>Deaths</th>\n",
       "      <th>Recovered</th>\n",
       "    </tr>\n",
       "  </thead>\n",
       "  <tbody>\n",
       "    <tr>\n",
       "      <th>267</th>\n",
       "      <td>4/29/2020</td>\n",
       "      <td>Ningxia</td>\n",
       "      <td>Mainland China</td>\n",
       "      <td>75</td>\n",
       "      <td>0</td>\n",
       "      <td>75</td>\n",
       "    </tr>\n",
       "    <tr>\n",
       "      <th>286</th>\n",
       "      <td>4/29/2020</td>\n",
       "      <td>Reunion</td>\n",
       "      <td>France</td>\n",
       "      <td>420</td>\n",
       "      <td>0</td>\n",
       "      <td>300</td>\n",
       "    </tr>\n",
       "    <tr>\n",
       "      <th>285</th>\n",
       "      <td>4/29/2020</td>\n",
       "      <td>Recovered</td>\n",
       "      <td>US</td>\n",
       "      <td>0</td>\n",
       "      <td>0</td>\n",
       "      <td>120720</td>\n",
       "    </tr>\n",
       "    <tr>\n",
       "      <th>284</th>\n",
       "      <td>4/29/2020</td>\n",
       "      <td>Recovered</td>\n",
       "      <td>Canada</td>\n",
       "      <td>0</td>\n",
       "      <td>0</td>\n",
       "      <td>20327</td>\n",
       "    </tr>\n",
       "    <tr>\n",
       "      <th>281</th>\n",
       "      <td>4/29/2020</td>\n",
       "      <td>Qinghai</td>\n",
       "      <td>Mainland China</td>\n",
       "      <td>18</td>\n",
       "      <td>0</td>\n",
       "      <td>18</td>\n",
       "    </tr>\n",
       "    <tr>\n",
       "      <th>...</th>\n",
       "      <td>...</td>\n",
       "      <td>...</td>\n",
       "      <td>...</td>\n",
       "      <td>...</td>\n",
       "      <td>...</td>\n",
       "      <td>...</td>\n",
       "    </tr>\n",
       "    <tr>\n",
       "      <th>61</th>\n",
       "      <td>4/29/2020</td>\n",
       "      <td>NaN</td>\n",
       "      <td>Germany</td>\n",
       "      <td>161539</td>\n",
       "      <td>6467</td>\n",
       "      <td>120400</td>\n",
       "    </tr>\n",
       "    <tr>\n",
       "      <th>15</th>\n",
       "      <td>4/29/2020</td>\n",
       "      <td>NaN</td>\n",
       "      <td>Belgium</td>\n",
       "      <td>47859</td>\n",
       "      <td>7501</td>\n",
       "      <td>11283</td>\n",
       "    </tr>\n",
       "    <tr>\n",
       "      <th>57</th>\n",
       "      <td>4/29/2020</td>\n",
       "      <td>NaN</td>\n",
       "      <td>France</td>\n",
       "      <td>165093</td>\n",
       "      <td>24087</td>\n",
       "      <td>48228</td>\n",
       "    </tr>\n",
       "    <tr>\n",
       "      <th>153</th>\n",
       "      <td>4/29/2020</td>\n",
       "      <td>NaN</td>\n",
       "      <td>Spain</td>\n",
       "      <td>236899</td>\n",
       "      <td>24275</td>\n",
       "      <td>132929</td>\n",
       "    </tr>\n",
       "    <tr>\n",
       "      <th>80</th>\n",
       "      <td>4/29/2020</td>\n",
       "      <td>NaN</td>\n",
       "      <td>Italy</td>\n",
       "      <td>203591</td>\n",
       "      <td>27682</td>\n",
       "      <td>71252</td>\n",
       "    </tr>\n",
       "  </tbody>\n",
       "</table>\n",
       "<p>224 rows × 6 columns</p>\n",
       "</div>"
      ],
      "text/plain": [
       "          Date      State          Region  Confirmed  Deaths  Recovered\n",
       "267  4/29/2020    Ningxia  Mainland China         75       0         75\n",
       "286  4/29/2020    Reunion          France        420       0        300\n",
       "285  4/29/2020  Recovered              US          0       0     120720\n",
       "284  4/29/2020  Recovered          Canada          0       0      20327\n",
       "281  4/29/2020    Qinghai  Mainland China         18       0         18\n",
       "..         ...        ...             ...        ...     ...        ...\n",
       "61   4/29/2020        NaN         Germany     161539    6467     120400\n",
       "15   4/29/2020        NaN         Belgium      47859    7501      11283\n",
       "57   4/29/2020        NaN          France     165093   24087      48228\n",
       "153  4/29/2020        NaN           Spain     236899   24275     132929\n",
       "80   4/29/2020        NaN           Italy     203591   27682      71252\n",
       "\n",
       "[224 rows x 6 columns]"
      ]
     },
     "execution_count": 68,
     "metadata": {},
     "output_type": "execute_result"
    }
   ],
   "source": [
    "data.sort_values(by=\"Deaths\",ascending=True)"
   ]
  },
  {
   "cell_type": "markdown",
   "id": "22d6ced0",
   "metadata": {},
   "source": [
    "### sorying data w.r.t number of confirmed cases in descending order "
   ]
  },
  {
   "cell_type": "code",
   "execution_count": 70,
   "id": "f72b1337",
   "metadata": {},
   "outputs": [
    {
     "data": {
      "text/html": [
       "<div>\n",
       "<style scoped>\n",
       "    .dataframe tbody tr th:only-of-type {\n",
       "        vertical-align: middle;\n",
       "    }\n",
       "\n",
       "    .dataframe tbody tr th {\n",
       "        vertical-align: top;\n",
       "    }\n",
       "\n",
       "    .dataframe thead th {\n",
       "        text-align: right;\n",
       "    }\n",
       "</style>\n",
       "<table border=\"1\" class=\"dataframe\">\n",
       "  <thead>\n",
       "    <tr style=\"text-align: right;\">\n",
       "      <th></th>\n",
       "      <th>Date</th>\n",
       "      <th>State</th>\n",
       "      <th>Region</th>\n",
       "      <th>Confirmed</th>\n",
       "      <th>Deaths</th>\n",
       "      <th>Recovered</th>\n",
       "    </tr>\n",
       "  </thead>\n",
       "  <tbody>\n",
       "    <tr>\n",
       "      <th>153</th>\n",
       "      <td>4/29/2020</td>\n",
       "      <td>NaN</td>\n",
       "      <td>Spain</td>\n",
       "      <td>236899</td>\n",
       "      <td>24275</td>\n",
       "      <td>132929</td>\n",
       "    </tr>\n",
       "    <tr>\n",
       "      <th>80</th>\n",
       "      <td>4/29/2020</td>\n",
       "      <td>NaN</td>\n",
       "      <td>Italy</td>\n",
       "      <td>203591</td>\n",
       "      <td>27682</td>\n",
       "      <td>71252</td>\n",
       "    </tr>\n",
       "    <tr>\n",
       "      <th>57</th>\n",
       "      <td>4/29/2020</td>\n",
       "      <td>NaN</td>\n",
       "      <td>France</td>\n",
       "      <td>165093</td>\n",
       "      <td>24087</td>\n",
       "      <td>48228</td>\n",
       "    </tr>\n",
       "    <tr>\n",
       "      <th>61</th>\n",
       "      <td>4/29/2020</td>\n",
       "      <td>NaN</td>\n",
       "      <td>Germany</td>\n",
       "      <td>161539</td>\n",
       "      <td>6467</td>\n",
       "      <td>120400</td>\n",
       "    </tr>\n",
       "    <tr>\n",
       "      <th>167</th>\n",
       "      <td>4/29/2020</td>\n",
       "      <td>NaN</td>\n",
       "      <td>Turkey</td>\n",
       "      <td>117589</td>\n",
       "      <td>3081</td>\n",
       "      <td>44040</td>\n",
       "    </tr>\n",
       "    <tr>\n",
       "      <th>...</th>\n",
       "      <td>...</td>\n",
       "      <td>...</td>\n",
       "      <td>...</td>\n",
       "      <td>...</td>\n",
       "      <td>...</td>\n",
       "      <td>...</td>\n",
       "    </tr>\n",
       "    <tr>\n",
       "      <th>217</th>\n",
       "      <td>4/29/2020</td>\n",
       "      <td>Greenland</td>\n",
       "      <td>Denmark</td>\n",
       "      <td>11</td>\n",
       "      <td>0</td>\n",
       "      <td>11</td>\n",
       "    </tr>\n",
       "    <tr>\n",
       "      <th>59</th>\n",
       "      <td>4/29/2020</td>\n",
       "      <td>NaN</td>\n",
       "      <td>Gambia</td>\n",
       "      <td>10</td>\n",
       "      <td>1</td>\n",
       "      <td>8</td>\n",
       "    </tr>\n",
       "    <tr>\n",
       "      <th>156</th>\n",
       "      <td>4/29/2020</td>\n",
       "      <td>NaN</td>\n",
       "      <td>Suriname</td>\n",
       "      <td>10</td>\n",
       "      <td>1</td>\n",
       "      <td>8</td>\n",
       "    </tr>\n",
       "    <tr>\n",
       "      <th>285</th>\n",
       "      <td>4/29/2020</td>\n",
       "      <td>Recovered</td>\n",
       "      <td>US</td>\n",
       "      <td>0</td>\n",
       "      <td>0</td>\n",
       "      <td>120720</td>\n",
       "    </tr>\n",
       "    <tr>\n",
       "      <th>284</th>\n",
       "      <td>4/29/2020</td>\n",
       "      <td>Recovered</td>\n",
       "      <td>Canada</td>\n",
       "      <td>0</td>\n",
       "      <td>0</td>\n",
       "      <td>20327</td>\n",
       "    </tr>\n",
       "  </tbody>\n",
       "</table>\n",
       "<p>224 rows × 6 columns</p>\n",
       "</div>"
      ],
      "text/plain": [
       "          Date      State    Region  Confirmed  Deaths  Recovered\n",
       "153  4/29/2020        NaN     Spain     236899   24275     132929\n",
       "80   4/29/2020        NaN     Italy     203591   27682      71252\n",
       "57   4/29/2020        NaN    France     165093   24087      48228\n",
       "61   4/29/2020        NaN   Germany     161539    6467     120400\n",
       "167  4/29/2020        NaN    Turkey     117589    3081      44040\n",
       "..         ...        ...       ...        ...     ...        ...\n",
       "217  4/29/2020  Greenland   Denmark         11       0         11\n",
       "59   4/29/2020        NaN    Gambia         10       1          8\n",
       "156  4/29/2020        NaN  Suriname         10       1          8\n",
       "285  4/29/2020  Recovered        US          0       0     120720\n",
       "284  4/29/2020  Recovered    Canada          0       0      20327\n",
       "\n",
       "[224 rows x 6 columns]"
      ]
     },
     "execution_count": 70,
     "metadata": {},
     "output_type": "execute_result"
    }
   ],
   "source": [
    "data.sort_values(by=\"Confirmed\",ascending=False)"
   ]
  }
 ],
 "metadata": {
  "kernelspec": {
   "display_name": "Python 3 (ipykernel)",
   "language": "python",
   "name": "python3"
  },
  "language_info": {
   "codemirror_mode": {
    "name": "ipython",
    "version": 3
   },
   "file_extension": ".py",
   "mimetype": "text/x-python",
   "name": "python",
   "nbconvert_exporter": "python",
   "pygments_lexer": "ipython3",
   "version": "3.9.12"
  }
 },
 "nbformat": 4,
 "nbformat_minor": 5
}
